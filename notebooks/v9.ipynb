{
 "cells": [
  {
   "cell_type": "code",
   "execution_count": null,
   "outputs": [],
   "source": [],
   "metadata": {
    "collapsed": false
   }
  },
  {
   "cell_type": "code",
   "execution_count": 15,
   "metadata": {
    "collapsed": true
   },
   "outputs": [
    {
     "name": "stdout",
     "output_type": "stream",
     "text": [
      "1667260800000.0 1667264400000.0\n"
     ]
    },
    {
     "data": {
      "text/plain": "        open_close  high_low   close_sma_2  close_sma_3  close_sma_5  \\\n89    5.863223e-06  0.000092 -4.885990e-06    -0.000006    -0.000019   \n90   -5.179322e-05  0.000081  4.251173e-05     0.000053     0.000056   \n91   -4.153546e-05  0.000070  3.298541e-05     0.000072     0.000100   \n92    7.671833e-05  0.000100 -5.985525e-05    -0.000058    -0.000024   \n93    7.329222e-06  0.000080 -3.175973e-06    -0.000044    -0.000034   \n...            ...       ...           ...          ...          ...   \n3596 -9.776433e-06  0.000022 -1.466479e-06    -0.000005     0.000009   \n3597 -7.625692e-05  0.000090  3.813137e-05     0.000050     0.000062   \n3598 -4.888393e-07  0.000027 -2.468640e-05    -0.000007     0.000003   \n3599  1.759857e-05  0.000049  9.776810e-07    -0.000015     0.000002   \n3600  4.790817e-05  0.000096 -5.132773e-06    -0.000006    -0.000012   \n\n      close_sma_15  close_sma_30  close_sma_60   close_ema_2  close_ema_3  \\\n89       -0.000029      0.000079      0.000411 -4.138909e-06    -0.000008   \n90        0.000049      0.000148      0.000475  2.696140e-05     0.000039   \n91        0.000101      0.000199      0.000519  3.097800e-05     0.000052   \n92       -0.000019      0.000066      0.000378 -2.957874e-05    -0.000034   \n93       -0.000019      0.000045      0.000351 -1.197683e-05    -0.000020   \n...            ...           ...           ...           ...          ...   \n3596      0.000005     -0.000013     -0.000030 -9.288363e-07    -0.000001   \n3597      0.000073      0.000063      0.000043  2.511128e-05     0.000038   \n3598      0.000020      0.000015     -0.000010 -8.087586e-06    -0.000006   \n3599      0.000017      0.000018     -0.000012 -2.044080e-06    -0.000002   \n3600      0.000002      0.000010     -0.000025 -4.103201e-06    -0.000006   \n\n      ...  long_rsi_sma_30  long_rsi_sma_60  volume_sma_2  volume_sma_3  \\\n89    ...       -16.357492       -13.869268     -0.418849     -0.303460   \n90    ...       -16.345945       -14.083671      0.455682      0.073861   \n91    ...       -16.307382       -14.325362     -0.120974      0.068988   \n92    ...       -16.188441       -14.495217     -0.149427     -0.255783   \n93    ...       -16.119962       -14.676273      0.574331      0.551729   \n...   ...              ...              ...           ...           ...   \n3596  ...         0.705086        -0.745280     -0.456979     -0.204067   \n3597  ...         0.636001        -0.941185     -0.483075     -0.654412   \n3598  ...         0.675553        -1.115298      0.902767      0.300167   \n3599  ...         0.707180        -1.322277      1.053274      3.274025   \n3600  ...         0.755903        -1.492687     -0.448428     -0.525479   \n\n      volume_sma_5  volume_sma_15  volume_sma_30  volume_sma_60  \\\n89       -0.357465       0.035213       0.480674       1.026424   \n90        0.311914       0.899018       1.812880       2.858315   \n91       -0.042854       0.377581       1.124069       1.937300   \n92       -0.317314      -0.078261       0.439586       1.067033   \n93        0.596007       0.917365       2.054384       3.368006   \n...            ...            ...            ...            ...   \n3596      6.598812       8.943901      14.965987      31.807787   \n3597     -0.776896      -0.601049      -0.494363       0.123720   \n3598     -0.193540       0.182242       0.347402       2.157009   \n3599      1.628496       2.722355       2.883995       8.771263   \n3600     -0.529412      -0.551042      -0.567832       0.014985   \n\n      buy_sell_ratio  buy_sell_ratio  \n89         -0.489028       -0.489028  \n90         -0.484840       -0.484840  \n91         -0.330488       -0.330488  \n92          0.431165        0.431165  \n93         -0.026610       -0.026610  \n...              ...             ...  \n3596        0.198071        0.198071  \n3597       -0.482289       -0.482289  \n3598        0.449505        0.449505  \n3599        0.045568        0.045568  \n3600        0.110654        0.110654  \n\n[3507 rows x 41 columns]",
      "text/html": "<div>\n<style scoped>\n    .dataframe tbody tr th:only-of-type {\n        vertical-align: middle;\n    }\n\n    .dataframe tbody tr th {\n        vertical-align: top;\n    }\n\n    .dataframe thead th {\n        text-align: right;\n    }\n</style>\n<table border=\"1\" class=\"dataframe\">\n  <thead>\n    <tr style=\"text-align: right;\">\n      <th></th>\n      <th>open_close</th>\n      <th>high_low</th>\n      <th>close_sma_2</th>\n      <th>close_sma_3</th>\n      <th>close_sma_5</th>\n      <th>close_sma_15</th>\n      <th>close_sma_30</th>\n      <th>close_sma_60</th>\n      <th>close_ema_2</th>\n      <th>close_ema_3</th>\n      <th>...</th>\n      <th>long_rsi_sma_30</th>\n      <th>long_rsi_sma_60</th>\n      <th>volume_sma_2</th>\n      <th>volume_sma_3</th>\n      <th>volume_sma_5</th>\n      <th>volume_sma_15</th>\n      <th>volume_sma_30</th>\n      <th>volume_sma_60</th>\n      <th>buy_sell_ratio</th>\n      <th>buy_sell_ratio</th>\n    </tr>\n  </thead>\n  <tbody>\n    <tr>\n      <th>89</th>\n      <td>5.863223e-06</td>\n      <td>0.000092</td>\n      <td>-4.885990e-06</td>\n      <td>-0.000006</td>\n      <td>-0.000019</td>\n      <td>-0.000029</td>\n      <td>0.000079</td>\n      <td>0.000411</td>\n      <td>-4.138909e-06</td>\n      <td>-0.000008</td>\n      <td>...</td>\n      <td>-16.357492</td>\n      <td>-13.869268</td>\n      <td>-0.418849</td>\n      <td>-0.303460</td>\n      <td>-0.357465</td>\n      <td>0.035213</td>\n      <td>0.480674</td>\n      <td>1.026424</td>\n      <td>-0.489028</td>\n      <td>-0.489028</td>\n    </tr>\n    <tr>\n      <th>90</th>\n      <td>-5.179322e-05</td>\n      <td>0.000081</td>\n      <td>4.251173e-05</td>\n      <td>0.000053</td>\n      <td>0.000056</td>\n      <td>0.000049</td>\n      <td>0.000148</td>\n      <td>0.000475</td>\n      <td>2.696140e-05</td>\n      <td>0.000039</td>\n      <td>...</td>\n      <td>-16.345945</td>\n      <td>-14.083671</td>\n      <td>0.455682</td>\n      <td>0.073861</td>\n      <td>0.311914</td>\n      <td>0.899018</td>\n      <td>1.812880</td>\n      <td>2.858315</td>\n      <td>-0.484840</td>\n      <td>-0.484840</td>\n    </tr>\n    <tr>\n      <th>91</th>\n      <td>-4.153546e-05</td>\n      <td>0.000070</td>\n      <td>3.298541e-05</td>\n      <td>0.000072</td>\n      <td>0.000100</td>\n      <td>0.000101</td>\n      <td>0.000199</td>\n      <td>0.000519</td>\n      <td>3.097800e-05</td>\n      <td>0.000052</td>\n      <td>...</td>\n      <td>-16.307382</td>\n      <td>-14.325362</td>\n      <td>-0.120974</td>\n      <td>0.068988</td>\n      <td>-0.042854</td>\n      <td>0.377581</td>\n      <td>1.124069</td>\n      <td>1.937300</td>\n      <td>-0.330488</td>\n      <td>-0.330488</td>\n    </tr>\n    <tr>\n      <th>92</th>\n      <td>7.671833e-05</td>\n      <td>0.000100</td>\n      <td>-5.985525e-05</td>\n      <td>-0.000058</td>\n      <td>-0.000024</td>\n      <td>-0.000019</td>\n      <td>0.000066</td>\n      <td>0.000378</td>\n      <td>-2.957874e-05</td>\n      <td>-0.000034</td>\n      <td>...</td>\n      <td>-16.188441</td>\n      <td>-14.495217</td>\n      <td>-0.149427</td>\n      <td>-0.255783</td>\n      <td>-0.317314</td>\n      <td>-0.078261</td>\n      <td>0.439586</td>\n      <td>1.067033</td>\n      <td>0.431165</td>\n      <td>0.431165</td>\n    </tr>\n    <tr>\n      <th>93</th>\n      <td>7.329222e-06</td>\n      <td>0.000080</td>\n      <td>-3.175973e-06</td>\n      <td>-0.000044</td>\n      <td>-0.000034</td>\n      <td>-0.000019</td>\n      <td>0.000045</td>\n      <td>0.000351</td>\n      <td>-1.197683e-05</td>\n      <td>-0.000020</td>\n      <td>...</td>\n      <td>-16.119962</td>\n      <td>-14.676273</td>\n      <td>0.574331</td>\n      <td>0.551729</td>\n      <td>0.596007</td>\n      <td>0.917365</td>\n      <td>2.054384</td>\n      <td>3.368006</td>\n      <td>-0.026610</td>\n      <td>-0.026610</td>\n    </tr>\n    <tr>\n      <th>...</th>\n      <td>...</td>\n      <td>...</td>\n      <td>...</td>\n      <td>...</td>\n      <td>...</td>\n      <td>...</td>\n      <td>...</td>\n      <td>...</td>\n      <td>...</td>\n      <td>...</td>\n      <td>...</td>\n      <td>...</td>\n      <td>...</td>\n      <td>...</td>\n      <td>...</td>\n      <td>...</td>\n      <td>...</td>\n      <td>...</td>\n      <td>...</td>\n      <td>...</td>\n      <td>...</td>\n    </tr>\n    <tr>\n      <th>3596</th>\n      <td>-9.776433e-06</td>\n      <td>0.000022</td>\n      <td>-1.466479e-06</td>\n      <td>-0.000005</td>\n      <td>0.000009</td>\n      <td>0.000005</td>\n      <td>-0.000013</td>\n      <td>-0.000030</td>\n      <td>-9.288363e-07</td>\n      <td>-0.000001</td>\n      <td>...</td>\n      <td>0.705086</td>\n      <td>-0.745280</td>\n      <td>-0.456979</td>\n      <td>-0.204067</td>\n      <td>6.598812</td>\n      <td>8.943901</td>\n      <td>14.965987</td>\n      <td>31.807787</td>\n      <td>0.198071</td>\n      <td>0.198071</td>\n    </tr>\n    <tr>\n      <th>3597</th>\n      <td>-7.625692e-05</td>\n      <td>0.000090</td>\n      <td>3.813137e-05</td>\n      <td>0.000050</td>\n      <td>0.000062</td>\n      <td>0.000073</td>\n      <td>0.000063</td>\n      <td>0.000043</td>\n      <td>2.511128e-05</td>\n      <td>0.000038</td>\n      <td>...</td>\n      <td>0.636001</td>\n      <td>-0.941185</td>\n      <td>-0.483075</td>\n      <td>-0.654412</td>\n      <td>-0.776896</td>\n      <td>-0.601049</td>\n      <td>-0.494363</td>\n      <td>0.123720</td>\n      <td>-0.482289</td>\n      <td>-0.482289</td>\n    </tr>\n    <tr>\n      <th>3598</th>\n      <td>-4.888393e-07</td>\n      <td>0.000027</td>\n      <td>-2.468640e-05</td>\n      <td>-0.000007</td>\n      <td>0.000003</td>\n      <td>0.000020</td>\n      <td>0.000015</td>\n      <td>-0.000010</td>\n      <td>-8.087586e-06</td>\n      <td>-0.000006</td>\n      <td>...</td>\n      <td>0.675553</td>\n      <td>-1.115298</td>\n      <td>0.902767</td>\n      <td>0.300167</td>\n      <td>-0.193540</td>\n      <td>0.182242</td>\n      <td>0.347402</td>\n      <td>2.157009</td>\n      <td>0.449505</td>\n      <td>0.449505</td>\n    </tr>\n    <tr>\n      <th>3599</th>\n      <td>1.759857e-05</td>\n      <td>0.000049</td>\n      <td>9.776810e-07</td>\n      <td>-0.000015</td>\n      <td>0.000002</td>\n      <td>0.000017</td>\n      <td>0.000018</td>\n      <td>-0.000012</td>\n      <td>-2.044080e-06</td>\n      <td>-0.000002</td>\n      <td>...</td>\n      <td>0.707180</td>\n      <td>-1.322277</td>\n      <td>1.053274</td>\n      <td>3.274025</td>\n      <td>1.628496</td>\n      <td>2.722355</td>\n      <td>2.883995</td>\n      <td>8.771263</td>\n      <td>0.045568</td>\n      <td>0.045568</td>\n    </tr>\n    <tr>\n      <th>3600</th>\n      <td>4.790817e-05</td>\n      <td>0.000096</td>\n      <td>-5.132773e-06</td>\n      <td>-0.000006</td>\n      <td>-0.000012</td>\n      <td>0.000002</td>\n      <td>0.000010</td>\n      <td>-0.000025</td>\n      <td>-4.103201e-06</td>\n      <td>-0.000006</td>\n      <td>...</td>\n      <td>0.755903</td>\n      <td>-1.492687</td>\n      <td>-0.448428</td>\n      <td>-0.525479</td>\n      <td>-0.529412</td>\n      <td>-0.551042</td>\n      <td>-0.567832</td>\n      <td>0.014985</td>\n      <td>0.110654</td>\n      <td>0.110654</td>\n    </tr>\n  </tbody>\n</table>\n<p>3507 rows × 41 columns</p>\n</div>"
     },
     "execution_count": 15,
     "metadata": {},
     "output_type": "execute_result"
    }
   ],
   "source": [
    "%reload_ext autoreload\n",
    "%autoreload 2\n",
    "from quantylab.rltrader import data_manager\n",
    "\n",
    "\n",
    "chart_data, training_data = data_manager.load_data(\"BTCUSDT\", date_from='20221101090000', date_to='20221101100000', ver='v9')\n",
    "training_data\n",
    "\n"
   ]
  },
  {
   "cell_type": "markdown",
   "source": [],
   "metadata": {
    "collapsed": false
   }
  },
  {
   "cell_type": "code",
   "execution_count": null,
   "outputs": [],
   "source": [],
   "metadata": {
    "collapsed": false
   }
  }
 ],
 "metadata": {
  "kernelspec": {
   "display_name": "Python 3",
   "language": "python",
   "name": "python3"
  },
  "language_info": {
   "codemirror_mode": {
    "name": "ipython",
    "version": 2
   },
   "file_extension": ".py",
   "mimetype": "text/x-python",
   "name": "python",
   "nbconvert_exporter": "python",
   "pygments_lexer": "ipython2",
   "version": "2.7.6"
  }
 },
 "nbformat": 4,
 "nbformat_minor": 0
}
