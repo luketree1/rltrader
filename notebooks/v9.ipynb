{
 "cells": [
  {
   "cell_type": "code",
   "execution_count": null,
   "outputs": [],
   "source": [],
   "metadata": {
    "collapsed": false
   }
  },
  {
   "cell_type": "code",
   "execution_count": 8,
   "metadata": {
    "collapsed": true
   },
   "outputs": [
    {
     "name": "stdout",
     "output_type": "stream",
     "text": [
      "1667260800000.0 1667520000000.0\n"
     ]
    },
    {
     "data": {
      "text/plain": "        open_close  high_low   close_sma_3  close_sma_5  close_sma_15  \\\n59            0.62      1.79  20474.913333    20475.660  20477.078000   \n60            0.72      1.87  20474.820000    20475.070  20476.991333   \n61           -1.35      1.90  20474.443333    20474.496  20476.714000   \n62            1.05      2.42  20473.930000    20474.250  20476.582667   \n63            0.97      2.36  20473.920000    20474.470  20476.460000   \n...            ...       ...           ...          ...           ...   \n259141       -0.48      0.57  20207.660000    20207.728  20207.848000   \n259142        0.90      2.25  20207.603333    20207.736  20207.871333   \n259143       -0.66      0.80  20207.536667    20207.696  20207.825333   \n259144       -0.12      0.88  20207.773333    20207.606  20207.684000   \n259145        0.49      2.82  20207.610000    20207.608  20207.628000   \n\n        close_sma_30  close_sma_60   volume_sma_3  volume_sma_5  \\\n59      20481.894667  20487.349333   34300.259530  65323.394395   \n60      20481.358000  20487.067000   47192.676893  72124.044857   \n61      20480.744667  20486.746167   46858.277662  41052.130821   \n62      20480.163333  20486.453333   84687.573416  69307.913254   \n63      20479.597333  20486.178667   88766.789412  70723.302074   \n...              ...           ...            ...           ...   \n259141  20207.380333  20206.796333   33737.675282  40951.988767   \n259142  20207.402667  20206.809000   35921.863885  36611.198293   \n259143  20207.416000  20206.812333   33161.521609  39878.637756   \n259144  20207.446667  20206.834333   37344.400779  35744.325070   \n259145  20207.452000  20206.857000  126701.837476  84497.416592   \n\n        volume_sma_15  volume_sma_30  volume_sma_60   quote_volume  \\\n59       76978.718653  159146.880989  121225.804028   38214.957473   \n60       75337.746055  158738.512502  120160.730919   49101.184661   \n61       74359.887800  160157.795204  117975.264181   53258.690853   \n62       79982.808482  164105.164059  109245.402805  151702.844735   \n63       76205.522351  161046.678419  109948.825805   61338.832647   \n...               ...            ...            ...            ...   \n259141   35160.984215   35083.424801   33204.786641    1304.401895   \n259142   37846.854661   26464.747623   33645.460057   41077.168639   \n259143   36806.912081   28294.538692   33902.399007   57102.994292   \n259144   31989.730087   28718.828595   34112.544161   13853.039404   \n259145   49538.988435   38875.915874   38812.465707  309149.478730   \n\n        number_of_trades  taker_buy_quote_volume  taker_sell_quote_volume  \n59                   110            26929.193187             11285.764286  \n60                   102            36017.328162             13083.856499  \n61                    90             3851.979579             49406.711274  \n62                   127           121541.531025             30161.313711  \n63                    77            20612.559981             40726.272666  \n...                  ...                     ...                      ...  \n259141                 7             1175.075257               129.326638  \n259142                60            41036.552159                40.616480  \n259143                39               27.078487             57075.915806  \n259144                52             1503.467541             12349.571864  \n259145               190           256406.632835             52742.845894  \n\n[259087 rows x 16 columns]",
      "text/html": "<div>\n<style scoped>\n    .dataframe tbody tr th:only-of-type {\n        vertical-align: middle;\n    }\n\n    .dataframe tbody tr th {\n        vertical-align: top;\n    }\n\n    .dataframe thead th {\n        text-align: right;\n    }\n</style>\n<table border=\"1\" class=\"dataframe\">\n  <thead>\n    <tr style=\"text-align: right;\">\n      <th></th>\n      <th>open_close</th>\n      <th>high_low</th>\n      <th>close_sma_3</th>\n      <th>close_sma_5</th>\n      <th>close_sma_15</th>\n      <th>close_sma_30</th>\n      <th>close_sma_60</th>\n      <th>volume_sma_3</th>\n      <th>volume_sma_5</th>\n      <th>volume_sma_15</th>\n      <th>volume_sma_30</th>\n      <th>volume_sma_60</th>\n      <th>quote_volume</th>\n      <th>number_of_trades</th>\n      <th>taker_buy_quote_volume</th>\n      <th>taker_sell_quote_volume</th>\n    </tr>\n  </thead>\n  <tbody>\n    <tr>\n      <th>59</th>\n      <td>0.62</td>\n      <td>1.79</td>\n      <td>20474.913333</td>\n      <td>20475.660</td>\n      <td>20477.078000</td>\n      <td>20481.894667</td>\n      <td>20487.349333</td>\n      <td>34300.259530</td>\n      <td>65323.394395</td>\n      <td>76978.718653</td>\n      <td>159146.880989</td>\n      <td>121225.804028</td>\n      <td>38214.957473</td>\n      <td>110</td>\n      <td>26929.193187</td>\n      <td>11285.764286</td>\n    </tr>\n    <tr>\n      <th>60</th>\n      <td>0.72</td>\n      <td>1.87</td>\n      <td>20474.820000</td>\n      <td>20475.070</td>\n      <td>20476.991333</td>\n      <td>20481.358000</td>\n      <td>20487.067000</td>\n      <td>47192.676893</td>\n      <td>72124.044857</td>\n      <td>75337.746055</td>\n      <td>158738.512502</td>\n      <td>120160.730919</td>\n      <td>49101.184661</td>\n      <td>102</td>\n      <td>36017.328162</td>\n      <td>13083.856499</td>\n    </tr>\n    <tr>\n      <th>61</th>\n      <td>-1.35</td>\n      <td>1.90</td>\n      <td>20474.443333</td>\n      <td>20474.496</td>\n      <td>20476.714000</td>\n      <td>20480.744667</td>\n      <td>20486.746167</td>\n      <td>46858.277662</td>\n      <td>41052.130821</td>\n      <td>74359.887800</td>\n      <td>160157.795204</td>\n      <td>117975.264181</td>\n      <td>53258.690853</td>\n      <td>90</td>\n      <td>3851.979579</td>\n      <td>49406.711274</td>\n    </tr>\n    <tr>\n      <th>62</th>\n      <td>1.05</td>\n      <td>2.42</td>\n      <td>20473.930000</td>\n      <td>20474.250</td>\n      <td>20476.582667</td>\n      <td>20480.163333</td>\n      <td>20486.453333</td>\n      <td>84687.573416</td>\n      <td>69307.913254</td>\n      <td>79982.808482</td>\n      <td>164105.164059</td>\n      <td>109245.402805</td>\n      <td>151702.844735</td>\n      <td>127</td>\n      <td>121541.531025</td>\n      <td>30161.313711</td>\n    </tr>\n    <tr>\n      <th>63</th>\n      <td>0.97</td>\n      <td>2.36</td>\n      <td>20473.920000</td>\n      <td>20474.470</td>\n      <td>20476.460000</td>\n      <td>20479.597333</td>\n      <td>20486.178667</td>\n      <td>88766.789412</td>\n      <td>70723.302074</td>\n      <td>76205.522351</td>\n      <td>161046.678419</td>\n      <td>109948.825805</td>\n      <td>61338.832647</td>\n      <td>77</td>\n      <td>20612.559981</td>\n      <td>40726.272666</td>\n    </tr>\n    <tr>\n      <th>...</th>\n      <td>...</td>\n      <td>...</td>\n      <td>...</td>\n      <td>...</td>\n      <td>...</td>\n      <td>...</td>\n      <td>...</td>\n      <td>...</td>\n      <td>...</td>\n      <td>...</td>\n      <td>...</td>\n      <td>...</td>\n      <td>...</td>\n      <td>...</td>\n      <td>...</td>\n      <td>...</td>\n    </tr>\n    <tr>\n      <th>259141</th>\n      <td>-0.48</td>\n      <td>0.57</td>\n      <td>20207.660000</td>\n      <td>20207.728</td>\n      <td>20207.848000</td>\n      <td>20207.380333</td>\n      <td>20206.796333</td>\n      <td>33737.675282</td>\n      <td>40951.988767</td>\n      <td>35160.984215</td>\n      <td>35083.424801</td>\n      <td>33204.786641</td>\n      <td>1304.401895</td>\n      <td>7</td>\n      <td>1175.075257</td>\n      <td>129.326638</td>\n    </tr>\n    <tr>\n      <th>259142</th>\n      <td>0.90</td>\n      <td>2.25</td>\n      <td>20207.603333</td>\n      <td>20207.736</td>\n      <td>20207.871333</td>\n      <td>20207.402667</td>\n      <td>20206.809000</td>\n      <td>35921.863885</td>\n      <td>36611.198293</td>\n      <td>37846.854661</td>\n      <td>26464.747623</td>\n      <td>33645.460057</td>\n      <td>41077.168639</td>\n      <td>60</td>\n      <td>41036.552159</td>\n      <td>40.616480</td>\n    </tr>\n    <tr>\n      <th>259143</th>\n      <td>-0.66</td>\n      <td>0.80</td>\n      <td>20207.536667</td>\n      <td>20207.696</td>\n      <td>20207.825333</td>\n      <td>20207.416000</td>\n      <td>20206.812333</td>\n      <td>33161.521609</td>\n      <td>39878.637756</td>\n      <td>36806.912081</td>\n      <td>28294.538692</td>\n      <td>33902.399007</td>\n      <td>57102.994292</td>\n      <td>39</td>\n      <td>27.078487</td>\n      <td>57075.915806</td>\n    </tr>\n    <tr>\n      <th>259144</th>\n      <td>-0.12</td>\n      <td>0.88</td>\n      <td>20207.773333</td>\n      <td>20207.606</td>\n      <td>20207.684000</td>\n      <td>20207.446667</td>\n      <td>20206.834333</td>\n      <td>37344.400779</td>\n      <td>35744.325070</td>\n      <td>31989.730087</td>\n      <td>28718.828595</td>\n      <td>34112.544161</td>\n      <td>13853.039404</td>\n      <td>52</td>\n      <td>1503.467541</td>\n      <td>12349.571864</td>\n    </tr>\n    <tr>\n      <th>259145</th>\n      <td>0.49</td>\n      <td>2.82</td>\n      <td>20207.610000</td>\n      <td>20207.608</td>\n      <td>20207.628000</td>\n      <td>20207.452000</td>\n      <td>20206.857000</td>\n      <td>126701.837476</td>\n      <td>84497.416592</td>\n      <td>49538.988435</td>\n      <td>38875.915874</td>\n      <td>38812.465707</td>\n      <td>309149.478730</td>\n      <td>190</td>\n      <td>256406.632835</td>\n      <td>52742.845894</td>\n    </tr>\n  </tbody>\n</table>\n<p>259087 rows × 16 columns</p>\n</div>"
     },
     "execution_count": 8,
     "metadata": {},
     "output_type": "execute_result"
    }
   ],
   "source": [
    "%reload_ext autoreload\n",
    "%autoreload 2\n",
    "from quantylab.rltrader import data_manager\n",
    "\n",
    "\n",
    "chart_data, training_data = data_manager.load_data(\"BTCUSDT\", date_from='20221101090000', date_to='20221104090000', ver='v9')\n",
    "training_data\n"
   ]
  },
  {
   "cell_type": "markdown",
   "source": [],
   "metadata": {
    "collapsed": false
   }
  },
  {
   "cell_type": "code",
   "execution_count": null,
   "outputs": [],
   "source": [],
   "metadata": {
    "collapsed": false
   }
  }
 ],
 "metadata": {
  "kernelspec": {
   "display_name": "Python 3",
   "language": "python",
   "name": "python3"
  },
  "language_info": {
   "codemirror_mode": {
    "name": "ipython",
    "version": 2
   },
   "file_extension": ".py",
   "mimetype": "text/x-python",
   "name": "python",
   "nbconvert_exporter": "python",
   "pygments_lexer": "ipython2",
   "version": "2.7.6"
  }
 },
 "nbformat": 4,
 "nbformat_minor": 0
}
