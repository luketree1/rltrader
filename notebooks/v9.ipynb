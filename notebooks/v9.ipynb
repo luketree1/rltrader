{
 "cells": [
  {
   "cell_type": "code",
   "execution_count": null,
   "outputs": [],
   "source": [],
   "metadata": {
    "collapsed": false
   }
  },
  {
   "cell_type": "code",
   "execution_count": 33,
   "metadata": {
    "collapsed": true
   },
   "outputs": [
    {
     "name": "stdout",
     "output_type": "stream",
     "text": [
      "1667260800000.0 1667520000000.0\n"
     ]
    },
    {
     "data": {
      "text/plain": "                 date      open      high       low     close    volume  \\\n0       1667260800000  20490.74  20492.93  20490.50  20491.94   5.51478   \n1       1667260801000  20491.05  20492.15  20490.00  20491.99   8.99849   \n2       1667260802000  20491.36  20493.00  20489.99  20491.62  32.96660   \n3       1667260803000  20491.00  20491.54  20490.80  20491.45   0.93373   \n4       1667260804000  20491.45  20492.99  20490.77  20491.00   4.31976   \n...               ...       ...       ...       ...       ...       ...   \n259141  1667519996000  20207.59  20207.68  20207.11  20207.11   0.06455   \n259142  1667519997000  20207.20  20209.45  20207.20  20208.10   2.03268   \n259143  1667519998000  20208.06  20208.12  20207.32  20207.40   2.82580   \n259144  1667519999000  20207.94  20207.94  20207.06  20207.82   0.68555   \n259145  1667520000000  20207.12  20209.54  20206.72  20207.61  15.29844   \n\n         quote_volume  number_of_trades  taker_buy_quote_volume  \\\n0       113005.571215               152            20517.230326   \n1       184386.695113               125            54199.188766   \n2       675494.527305               165           544899.051530   \n3        19133.452664                31            18992.475634   \n4        88519.671208               105            67636.175942   \n...               ...               ...                     ...   \n259141    1304.401895                 7             1175.075257   \n259142   41077.168639                60            41036.552159   \n259143   57102.994292                39               27.078487   \n259144   13853.039404                52             1503.467541   \n259145  309149.478730               190           256406.632835   \n\n        taker_sell_quote_volume  \n0                  92488.340890  \n1                 130187.506347  \n2                 130595.475775  \n3                    140.977030  \n4                  20883.495266  \n...                         ...  \n259141               129.326638  \n259142                40.616480  \n259143             57075.915806  \n259144             12349.571864  \n259145             52742.845894  \n\n[259146 rows x 10 columns]",
      "text/html": "<div>\n<style scoped>\n    .dataframe tbody tr th:only-of-type {\n        vertical-align: middle;\n    }\n\n    .dataframe tbody tr th {\n        vertical-align: top;\n    }\n\n    .dataframe thead th {\n        text-align: right;\n    }\n</style>\n<table border=\"1\" class=\"dataframe\">\n  <thead>\n    <tr style=\"text-align: right;\">\n      <th></th>\n      <th>date</th>\n      <th>open</th>\n      <th>high</th>\n      <th>low</th>\n      <th>close</th>\n      <th>volume</th>\n      <th>quote_volume</th>\n      <th>number_of_trades</th>\n      <th>taker_buy_quote_volume</th>\n      <th>taker_sell_quote_volume</th>\n    </tr>\n  </thead>\n  <tbody>\n    <tr>\n      <th>0</th>\n      <td>1667260800000</td>\n      <td>20490.74</td>\n      <td>20492.93</td>\n      <td>20490.50</td>\n      <td>20491.94</td>\n      <td>5.51478</td>\n      <td>113005.571215</td>\n      <td>152</td>\n      <td>20517.230326</td>\n      <td>92488.340890</td>\n    </tr>\n    <tr>\n      <th>1</th>\n      <td>1667260801000</td>\n      <td>20491.05</td>\n      <td>20492.15</td>\n      <td>20490.00</td>\n      <td>20491.99</td>\n      <td>8.99849</td>\n      <td>184386.695113</td>\n      <td>125</td>\n      <td>54199.188766</td>\n      <td>130187.506347</td>\n    </tr>\n    <tr>\n      <th>2</th>\n      <td>1667260802000</td>\n      <td>20491.36</td>\n      <td>20493.00</td>\n      <td>20489.99</td>\n      <td>20491.62</td>\n      <td>32.96660</td>\n      <td>675494.527305</td>\n      <td>165</td>\n      <td>544899.051530</td>\n      <td>130595.475775</td>\n    </tr>\n    <tr>\n      <th>3</th>\n      <td>1667260803000</td>\n      <td>20491.00</td>\n      <td>20491.54</td>\n      <td>20490.80</td>\n      <td>20491.45</td>\n      <td>0.93373</td>\n      <td>19133.452664</td>\n      <td>31</td>\n      <td>18992.475634</td>\n      <td>140.977030</td>\n    </tr>\n    <tr>\n      <th>4</th>\n      <td>1667260804000</td>\n      <td>20491.45</td>\n      <td>20492.99</td>\n      <td>20490.77</td>\n      <td>20491.00</td>\n      <td>4.31976</td>\n      <td>88519.671208</td>\n      <td>105</td>\n      <td>67636.175942</td>\n      <td>20883.495266</td>\n    </tr>\n    <tr>\n      <th>...</th>\n      <td>...</td>\n      <td>...</td>\n      <td>...</td>\n      <td>...</td>\n      <td>...</td>\n      <td>...</td>\n      <td>...</td>\n      <td>...</td>\n      <td>...</td>\n      <td>...</td>\n    </tr>\n    <tr>\n      <th>259141</th>\n      <td>1667519996000</td>\n      <td>20207.59</td>\n      <td>20207.68</td>\n      <td>20207.11</td>\n      <td>20207.11</td>\n      <td>0.06455</td>\n      <td>1304.401895</td>\n      <td>7</td>\n      <td>1175.075257</td>\n      <td>129.326638</td>\n    </tr>\n    <tr>\n      <th>259142</th>\n      <td>1667519997000</td>\n      <td>20207.20</td>\n      <td>20209.45</td>\n      <td>20207.20</td>\n      <td>20208.10</td>\n      <td>2.03268</td>\n      <td>41077.168639</td>\n      <td>60</td>\n      <td>41036.552159</td>\n      <td>40.616480</td>\n    </tr>\n    <tr>\n      <th>259143</th>\n      <td>1667519998000</td>\n      <td>20208.06</td>\n      <td>20208.12</td>\n      <td>20207.32</td>\n      <td>20207.40</td>\n      <td>2.82580</td>\n      <td>57102.994292</td>\n      <td>39</td>\n      <td>27.078487</td>\n      <td>57075.915806</td>\n    </tr>\n    <tr>\n      <th>259144</th>\n      <td>1667519999000</td>\n      <td>20207.94</td>\n      <td>20207.94</td>\n      <td>20207.06</td>\n      <td>20207.82</td>\n      <td>0.68555</td>\n      <td>13853.039404</td>\n      <td>52</td>\n      <td>1503.467541</td>\n      <td>12349.571864</td>\n    </tr>\n    <tr>\n      <th>259145</th>\n      <td>1667520000000</td>\n      <td>20207.12</td>\n      <td>20209.54</td>\n      <td>20206.72</td>\n      <td>20207.61</td>\n      <td>15.29844</td>\n      <td>309149.478730</td>\n      <td>190</td>\n      <td>256406.632835</td>\n      <td>52742.845894</td>\n    </tr>\n  </tbody>\n</table>\n<p>259146 rows × 10 columns</p>\n</div>"
     },
     "execution_count": 33,
     "metadata": {},
     "output_type": "execute_result"
    }
   ],
   "source": [
    "%reload_ext autoreload\n",
    "%autoreload 2\n",
    "from quantylab.rltrader import data_manager\n",
    "\n",
    "\n",
    "chart_data, training_data = data_manager.load_data(\"BTCUSDT\", date_from='20221101090000', date_to='20221104090000', ver='v9')\n",
    "training_data\n"
   ]
  },
  {
   "cell_type": "markdown",
   "source": [],
   "metadata": {
    "collapsed": false
   }
  },
  {
   "cell_type": "code",
   "execution_count": null,
   "outputs": [],
   "source": [],
   "metadata": {
    "collapsed": false
   }
  }
 ],
 "metadata": {
  "kernelspec": {
   "display_name": "Python 3",
   "language": "python",
   "name": "python3"
  },
  "language_info": {
   "codemirror_mode": {
    "name": "ipython",
    "version": 2
   },
   "file_extension": ".py",
   "mimetype": "text/x-python",
   "name": "python",
   "nbconvert_exporter": "python",
   "pygments_lexer": "ipython2",
   "version": "2.7.6"
  }
 },
 "nbformat": 4,
 "nbformat_minor": 0
}
