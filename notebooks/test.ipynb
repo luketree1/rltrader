{
 "cells": [
  {
   "cell_type": "markdown",
   "source": [],
   "metadata": {
    "collapsed": false
   }
  },
  {
   "cell_type": "code",
   "execution_count": null,
   "metadata": {
    "pycharm": {
     "is_executing": true
    }
   },
   "outputs": [
    {
     "name": "stdout",
     "output_type": "stream",
     "text": [
      "The autoreload extension is already loaded. To reload it, use:\n",
      "  %reload_ext autoreload\n",
      "{\"mode\": \"train\", \"ver\": \"v9\", \"name\": \"BTCUSDT\", \"stock_code\": [\"BTCUSDT\"], \"rl_method\": \"a3c\", \"net\": \"dnn\", \"backend\": \"pytorch\", \"start_date\": \"20221101090000\", \"end_date\": \"202211020000\", \"lr\": 0.0001, \"discount_factor\": 0.7, \"balance\": 30000}\n",
      "{\"mode\": \"train\", \"ver\": \"v9\", \"name\": \"BTCUSDT\", \"stock_code\": [\"BTCUSDT\"], \"rl_method\": \"a3c\", \"net\": \"dnn\", \"backend\": \"pytorch\", \"start_date\": \"20221101090000\", \"end_date\": \"202211020000\", \"lr\": 0.0001, \"discount_factor\": 0.7, \"balance\": 30000}\n",
      "{\"mode\": \"train\", \"ver\": \"v9\", \"name\": \"BTCUSDT\", \"stock_code\": [\"BTCUSDT\"], \"rl_method\": \"a3c\", \"net\": \"dnn\", \"backend\": \"pytorch\", \"start_date\": \"20221101090000\", \"end_date\": \"202211020000\", \"lr\": 0.0001, \"discount_factor\": 0.7, \"balance\": 30000}\n",
      "1667260800000.0 1667314800000.0\n",
      "complete load data\n",
      "start learn 53915\n"
     ]
    },
    {
     "data": {
      "text/plain": "  0%|          | 0/5000 [00:00<?, ?it/s]",
      "application/vnd.jupyter.widget-view+json": {
       "version_major": 2,
       "version_minor": 0,
       "model_id": "9fd37232bf8f49fe9cc242d12eb12ac1"
      }
     },
     "metadata": {},
     "output_type": "display_data"
    },
    {
     "data": {
      "text/plain": "  0%|          | 0/53915 [00:00<?, ?it/s]",
      "application/vnd.jupyter.widget-view+json": {
       "version_major": 2,
       "version_minor": 0,
       "model_id": "ab43262d1ad54646953dbb3b827e4878"
      }
     },
     "metadata": {},
     "output_type": "display_data"
    }
   ],
   "source": [
    "\n",
    "%load_ext autoreload\n",
    "%autoreload 2\n",
    "%matplotlib notebook\n",
    "%run -i ../main.py  --mode train --ver v9 --name BTCUSDT --stock_code BTCUSDT --rl_method a3c --net dnn --start_date 20221101090000 --end_date 202211020000"
   ]
  },
  {
   "cell_type": "code",
   "execution_count": 1,
   "metadata": {},
   "outputs": [],
   "source": [
    "# balance + unrealized_profit -> (position 수 * (cur price - entry price)\n"
   ]
  },
  {
   "cell_type": "code",
   "execution_count": 2,
   "metadata": {},
   "outputs": [],
   "source": []
  },
  {
   "cell_type": "code",
   "execution_count": 2,
   "metadata": {},
   "outputs": [],
   "source": []
  },
  {
   "cell_type": "code",
   "execution_count": 2,
   "metadata": {},
   "outputs": [],
   "source": []
  }
 ],
 "metadata": {
  "kernelspec": {
   "display_name": "Python 3 (ipykernel)",
   "language": "python",
   "name": "python3"
  },
  "language_info": {
   "codemirror_mode": {
    "name": "ipython",
    "version": 3
   },
   "file_extension": ".py",
   "mimetype": "text/x-python",
   "name": "python",
   "nbconvert_exporter": "python",
   "pygments_lexer": "ipython3",
   "version": "3.8.8"
  }
 },
 "nbformat": 4,
 "nbformat_minor": 1
}
