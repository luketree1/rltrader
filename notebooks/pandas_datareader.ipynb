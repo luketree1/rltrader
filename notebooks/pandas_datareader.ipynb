{
 "cells": [
  {
   "cell_type": "markdown",
   "metadata": {},
   "source": [
    "# pandas-datareader로 차트 데이터 획득하기\n",
    "\n",
    "https://pandas-datareader.readthedocs.io/en/latest/"
   ]
  },
  {
   "cell_type": "code",
   "execution_count": 1,
   "metadata": {},
   "outputs": [
    {
     "name": "stdout",
     "output_type": "stream",
     "text": [
      "Collecting pandas_datareader\r\n",
      "  Downloading pandas_datareader-0.10.0-py3-none-any.whl (109 kB)\r\n",
      "\u001B[2K     \u001B[90m━━━━━━━━━━━━━━━━━━━━━━━━━━━━━━━━━━━━━━━\u001B[0m \u001B[32m109.5/109.5 kB\u001B[0m \u001B[31m6.7 MB/s\u001B[0m eta \u001B[36m0:00:00\u001B[0m\r\n",
      "\u001B[?25hRequirement already satisfied: pandas>=0.23 in /Users/yangwoolee/opt/anaconda3/lib/python3.8/site-packages (from pandas_datareader) (1.5.2)\r\n",
      "Requirement already satisfied: lxml in /Users/yangwoolee/opt/anaconda3/lib/python3.8/site-packages (from pandas_datareader) (4.9.1)\r\n",
      "Requirement already satisfied: requests>=2.19.0 in /Users/yangwoolee/opt/anaconda3/lib/python3.8/site-packages (from pandas_datareader) (2.28.1)\r\n",
      "Requirement already satisfied: python-dateutil>=2.8.1 in /Users/yangwoolee/opt/anaconda3/lib/python3.8/site-packages (from pandas>=0.23->pandas_datareader) (2.8.2)\r\n",
      "Requirement already satisfied: pytz>=2020.1 in /Users/yangwoolee/opt/anaconda3/lib/python3.8/site-packages (from pandas>=0.23->pandas_datareader) (2022.7)\r\n",
      "Requirement already satisfied: numpy>=1.20.3 in /Users/yangwoolee/opt/anaconda3/lib/python3.8/site-packages (from pandas>=0.23->pandas_datareader) (1.21.5)\r\n",
      "Requirement already satisfied: certifi>=2017.4.17 in /Users/yangwoolee/opt/anaconda3/lib/python3.8/site-packages (from requests>=2.19.0->pandas_datareader) (2022.12.7)\r\n",
      "Requirement already satisfied: idna<4,>=2.5 in /Users/yangwoolee/opt/anaconda3/lib/python3.8/site-packages (from requests>=2.19.0->pandas_datareader) (3.4)\r\n",
      "Requirement already satisfied: charset-normalizer<3,>=2 in /Users/yangwoolee/opt/anaconda3/lib/python3.8/site-packages (from requests>=2.19.0->pandas_datareader) (2.0.4)\r\n",
      "Requirement already satisfied: urllib3<1.27,>=1.21.1 in /Users/yangwoolee/opt/anaconda3/lib/python3.8/site-packages (from requests>=2.19.0->pandas_datareader) (1.26.14)\r\n",
      "Requirement already satisfied: six>=1.5 in /Users/yangwoolee/opt/anaconda3/lib/python3.8/site-packages (from python-dateutil>=2.8.1->pandas>=0.23->pandas_datareader) (1.16.0)\r\n",
      "Installing collected packages: pandas_datareader\r\n",
      "Successfully installed pandas_datareader-0.10.0\r\n"
     ]
    },
    {
     "data": {
      "text/plain": "             Open   High    Low  Close    Volume\nDate                                            \n2021-12-01  72000  74800  71600  74400  21954856\n2021-12-02  73900  75800  73800  75800  23652940\n2021-12-03  75600  76000  74100  75600  18330240\n2021-12-06  75100  76700  74900  76300  16391250\n2021-12-07  76100  77700  75600  77400  19232453",
      "text/html": "<div>\n<style scoped>\n    .dataframe tbody tr th:only-of-type {\n        vertical-align: middle;\n    }\n\n    .dataframe tbody tr th {\n        vertical-align: top;\n    }\n\n    .dataframe thead th {\n        text-align: right;\n    }\n</style>\n<table border=\"1\" class=\"dataframe\">\n  <thead>\n    <tr style=\"text-align: right;\">\n      <th></th>\n      <th>Open</th>\n      <th>High</th>\n      <th>Low</th>\n      <th>Close</th>\n      <th>Volume</th>\n    </tr>\n    <tr>\n      <th>Date</th>\n      <th></th>\n      <th></th>\n      <th></th>\n      <th></th>\n      <th></th>\n    </tr>\n  </thead>\n  <tbody>\n    <tr>\n      <th>2021-12-01</th>\n      <td>72000</td>\n      <td>74800</td>\n      <td>71600</td>\n      <td>74400</td>\n      <td>21954856</td>\n    </tr>\n    <tr>\n      <th>2021-12-02</th>\n      <td>73900</td>\n      <td>75800</td>\n      <td>73800</td>\n      <td>75800</td>\n      <td>23652940</td>\n    </tr>\n    <tr>\n      <th>2021-12-03</th>\n      <td>75600</td>\n      <td>76000</td>\n      <td>74100</td>\n      <td>75600</td>\n      <td>18330240</td>\n    </tr>\n    <tr>\n      <th>2021-12-06</th>\n      <td>75100</td>\n      <td>76700</td>\n      <td>74900</td>\n      <td>76300</td>\n      <td>16391250</td>\n    </tr>\n    <tr>\n      <th>2021-12-07</th>\n      <td>76100</td>\n      <td>77700</td>\n      <td>75600</td>\n      <td>77400</td>\n      <td>19232453</td>\n    </tr>\n  </tbody>\n</table>\n</div>"
     },
     "execution_count": 1,
     "metadata": {},
     "output_type": "execute_result"
    }
   ],
   "source": [
    "!pip install pandas_datareader\n",
    "import pandas_datareader.data as web\n",
    "df = web.DataReader(\n",
    "    '005930',\n",
    "    'naver',\n",
    "    start='2021-12-01',\n",
    "    end='2021-12-31'\n",
    ")\n",
    "df.head()"
   ]
  },
  {
   "cell_type": "code",
   "execution_count": 3,
   "metadata": {},
   "outputs": [
    {
     "data": {
      "text/html": [
       "<div>\n",
       "<style scoped>\n",
       "    .dataframe tbody tr th:only-of-type {\n",
       "        vertical-align: middle;\n",
       "    }\n",
       "\n",
       "    .dataframe tbody tr th {\n",
       "        vertical-align: top;\n",
       "    }\n",
       "\n",
       "    .dataframe thead th {\n",
       "        text-align: right;\n",
       "    }\n",
       "</style>\n",
       "<table border=\"1\" class=\"dataframe\">\n",
       "  <thead>\n",
       "    <tr style=\"text-align: right;\">\n",
       "      <th></th>\n",
       "      <th>High</th>\n",
       "      <th>Low</th>\n",
       "      <th>Open</th>\n",
       "      <th>Close</th>\n",
       "      <th>Volume</th>\n",
       "      <th>Adj Close</th>\n",
       "    </tr>\n",
       "    <tr>\n",
       "      <th>Date</th>\n",
       "      <th></th>\n",
       "      <th></th>\n",
       "      <th></th>\n",
       "      <th></th>\n",
       "      <th></th>\n",
       "      <th></th>\n",
       "    </tr>\n",
       "  </thead>\n",
       "  <tbody>\n",
       "    <tr>\n",
       "      <th>2021-12-01</th>\n",
       "      <td>74800</td>\n",
       "      <td>71600</td>\n",
       "      <td>72000</td>\n",
       "      <td>74400</td>\n",
       "      <td>21954856</td>\n",
       "      <td>74400</td>\n",
       "    </tr>\n",
       "    <tr>\n",
       "      <th>2021-12-02</th>\n",
       "      <td>75800</td>\n",
       "      <td>73800</td>\n",
       "      <td>73900</td>\n",
       "      <td>75800</td>\n",
       "      <td>23652940</td>\n",
       "      <td>75800</td>\n",
       "    </tr>\n",
       "    <tr>\n",
       "      <th>2021-12-03</th>\n",
       "      <td>76000</td>\n",
       "      <td>74100</td>\n",
       "      <td>75600</td>\n",
       "      <td>75600</td>\n",
       "      <td>18330240</td>\n",
       "      <td>75600</td>\n",
       "    </tr>\n",
       "    <tr>\n",
       "      <th>2021-12-06</th>\n",
       "      <td>76700</td>\n",
       "      <td>74900</td>\n",
       "      <td>75100</td>\n",
       "      <td>76300</td>\n",
       "      <td>16391250</td>\n",
       "      <td>76300</td>\n",
       "    </tr>\n",
       "    <tr>\n",
       "      <th>2021-12-07</th>\n",
       "      <td>77700</td>\n",
       "      <td>75600</td>\n",
       "      <td>76100</td>\n",
       "      <td>77400</td>\n",
       "      <td>19232453</td>\n",
       "      <td>77400</td>\n",
       "    </tr>\n",
       "  </tbody>\n",
       "</table>\n",
       "</div>"
      ],
      "text/plain": [
       "             High    Low   Open  Close    Volume  Adj Close\n",
       "Date                                                       \n",
       "2021-12-01  74800  71600  72000  74400  21954856      74400\n",
       "2021-12-02  75800  73800  73900  75800  23652940      75800\n",
       "2021-12-03  76000  74100  75600  75600  18330240      75600\n",
       "2021-12-06  76700  74900  75100  76300  16391250      76300\n",
       "2021-12-07  77700  75600  76100  77400  19232453      77400"
      ]
     },
     "execution_count": 3,
     "metadata": {},
     "output_type": "execute_result"
    }
   ],
   "source": [
    "import pandas_datareader.data as web\n",
    "df = web.DataReader(\n",
    "    '005930.KS',  # 코스피: KS, 코스닥: KQ\n",
    "    'yahoo',\n",
    "    start='2021-12-01',\n",
    "    end='2021-12-31'\n",
    ")\n",
    "df.head()"
   ]
  }
 ],
 "metadata": {
  "interpreter": {
   "hash": "42588fd11209419b7c81abe23e31a1d2101f60811b02170c268e57ebb57d5d9a"
  },
  "kernelspec": {
   "display_name": "Python 3.8.8 64-bit ('base': conda)",
   "language": "python",
   "name": "python3"
  },
  "language_info": {
   "codemirror_mode": {
    "name": "ipython",
    "version": 3
   },
   "file_extension": ".py",
   "mimetype": "text/x-python",
   "name": "python",
   "nbconvert_exporter": "python",
   "pygments_lexer": "ipython3",
   "version": "3.8.8"
  },
  "orig_nbformat": 4
 },
 "nbformat": 4,
 "nbformat_minor": 2
}
